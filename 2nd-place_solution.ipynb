{
 "cells": [
  {
   "cell_type": "markdown",
   "id": "ac7e06cc",
   "metadata": {},
   "source": [
    "Baseline Notebook for Time Series projects.\n",
    "\n",
    "Source: \n",
    "- [Time Series Forecasting by Rob Mulla](https://www.youtube.com/watch?v=z3ZnOW-S550)\n"
   ]
  },
  {
   "cell_type": "markdown",
   "id": "62bdbee2",
   "metadata": {},
   "source": [
    "# 0.0 Imports"
   ]
  },
  {
   "cell_type": "code",
   "execution_count": 1,
   "id": "46789e42",
   "metadata": {
    "ExecuteTime": {
     "end_time": "2022-08-21T22:43:44.068139Z",
     "start_time": "2022-08-21T22:43:44.065856Z"
    }
   },
   "outputs": [],
   "source": [
    "# !pip install category_encoders"
   ]
  },
  {
   "cell_type": "code",
   "execution_count": 2,
   "id": "636bef87",
   "metadata": {
    "ExecuteTime": {
     "end_time": "2022-08-21T20:39:48.511413Z",
     "start_time": "2022-08-21T20:39:47.521373Z"
    }
   },
   "outputs": [],
   "source": [
    "import pandas as pd\n",
    "import numpy as np\n",
    "\n",
    "import matplotlib.pyplot as plt\n",
    "import seaborn as sns\n",
    "\n",
    "import xgboost as xgb\n",
    "import lightgbm as lgbm\n",
    "import catboost as cb\n",
    "\n",
    "from sklearn.metrics         import mean_squared_error, r2_score, mean_absolute_error\n",
    "from sklearn.model_selection import TimeSeriesSplit, KFold, StratifiedKFold, GroupKFold\n",
    "from sklearn.impute          import SimpleImputer, KNNImputer\n",
    "\n",
    "from sklearn.linear_model    import Lasso, Ridge, LinearRegression\n",
    "from sklearn.preprocessing   import StandardScaler, MinMaxScaler\n",
    "\n",
    "from sklearn.model_selection import train_test_split\n",
    "from sklearn.model_selection import GridSearchCV\n",
    "\n",
    "\n",
    "import category_encoders as ce\n",
    "\n",
    "\n",
    "color_pal = sns.color_palette()\n",
    "plt.style.use('fivethirtyeight')"
   ]
  },
  {
   "cell_type": "markdown",
   "id": "1f9f7c06",
   "metadata": {},
   "source": [
    "# 1.0 Data Reading"
   ]
  },
  {
   "cell_type": "code",
   "execution_count": 4,
   "id": "ee8f08ab",
   "metadata": {
    "ExecuteTime": {
     "end_time": "2022-08-21T20:39:49.537148Z",
     "start_time": "2022-08-21T20:39:49.422432Z"
    }
   },
   "outputs": [],
   "source": [
    "df = pd.read_csv('data/train.csv')"
   ]
  },
  {
   "cell_type": "code",
   "execution_count": 5,
   "id": "5368c7b5",
   "metadata": {
    "ExecuteTime": {
     "end_time": "2022-08-21T20:39:49.930927Z",
     "start_time": "2022-08-21T20:39:49.724942Z"
    }
   },
   "outputs": [],
   "source": [
    "train = pd.read_csv('data/train.csv')\n",
    "test = pd.read_csv('data/test.csv')\n",
    "df_sub = test[['ID']].copy()"
   ]
  },
  {
   "cell_type": "code",
   "execution_count": 6,
   "id": "bfe027b0",
   "metadata": {
    "ExecuteTime": {
     "end_time": "2022-08-21T20:41:07.176905Z",
     "start_time": "2022-08-21T20:41:07.159710Z"
    }
   },
   "outputs": [],
   "source": [
    "ss = StandardScaler()\n",
    "mm = MinMaxScaler()\n",
    "\n",
    "def create_features(df, train=True):\n",
    "    \"\"\"\n",
    "    Adds features to training or test set.   \n",
    "    \"\"\"\n",
    "    \n",
    "    # drop features not in test set\n",
    "    df = df.drop(['preco'], axis=1)    \n",
    "    \n",
    "\n",
    "    #    np.full((train.shape[0], ), 2022)\n",
    "    \n",
    "    # MILEAGE & YEAR GAP\n",
    "    df['ano_modelo']     = df['ano_modelo'].astype(int)\n",
    "    \n",
    "#     df['yearGapFab'] = (np.ones(df.shape[0])*2022 - df['ano_de_fabricacao']) + 1\n",
    "#     df['yearGapMod'] = (np.ones(df.shape[0])*2022 - df['ano_modelo'])        + 1\n",
    "    \n",
    "    df['yearGapFab'] = 2024 - df['ano_de_fabricacao']\n",
    "    df['yearGapMod'] = 2024 - df['ano_modelo']    \n",
    "    \n",
    "    \n",
    "    df['mileageFab'] = df['odometro'] / df['yearGapFab']\n",
    "    df['mileageMod'] = df['odometro'] / df['yearGapMod']    \n",
    "    df['mileage'] = df['odometro'] / (df['yearGapFab']*0.5 + df['yearGapMod']*0.5)\n",
    "    \n",
    "    df['mileageYearFab'] = df['odometro'] / df['ano_de_fabricacao']\n",
    "    df['mileageYearMod'] = df['odometro'] / df['ano_modelo']\n",
    "    \n",
    "    \n",
    "    df['ano_modelo']        = ss.fit_transform(df[['ano_modelo']].values)\n",
    "    df['ano_de_fabricacao'] = ss.fit_transform(df[['ano_de_fabricacao']].values)\n",
    "    \n",
    "\n",
    "    # FEATURES SCALING\n",
    "    \n",
    "#     featagg1 = df.groupby(\"ano_de_fabricacao\")['odometro'].agg(['mean', 'std', 'min', 'max', 'last'])\n",
    "#     df['featagg1'] = df['ano_de_fabricacao'].map(featagg1)\n",
    "    \n",
    "#     featagg2 = df.groupby(\"ano_de_fabricacao\")['cambio'].agg(['count', 'nunique'])\n",
    "#     df['featagg2'] = df['ano_de_fabricacao'].map(featagg2)\n",
    "\n",
    "    \n",
    "    \n",
    "    df['odometro']       = mm.fit_transform(df[['odometro']].values)\n",
    "   \n",
    "    df['mileageFab'] = mm.fit_transform(df[['mileageFab']].values) \n",
    "    df['mileageMod'] = mm.fit_transform(df[['mileageMod']].values) \n",
    "    \n",
    "    df['mileage'] = mm.fit_transform(df[['mileage']].values)    \n",
    "    \n",
    "    df['mileageYearFab'] = mm.fit_transform(df[['mileageYearFab']].values)\n",
    "    df['mileageYearMod'] = mm.fit_transform(df[['mileageYearMod']].values)\n",
    "\n",
    "\n",
    "\n",
    "\n",
    "    df['4x4'] =    df['versao'].str.extract(r'(4X4)')\n",
    "    df['is_V6'] =  df['versao'].str.extract(r'(V6)')\n",
    "    df['is_V8'] =  df['versao'].str.extract(r'(V8)')\n",
    "    df['is_V10'] = df['versao'].str.extract(r'(V10)')\n",
    "\n",
    "    df['4x4'] =      df['4x4'].apply(lambda x: 1 if x == '4X4'else 0)\n",
    "    df['is_V6'] =    df['is_V6'].apply(lambda x:1 if x == 'V6'else 0)\n",
    "    df['is_V8'] =    df['is_V8'].apply(lambda x:1 if x == 'V8'else 0)\n",
    "    df['is_V10'] =   df['is_V10'].apply(lambda x:1 if x == 'V10' else 0)\n",
    "    df['is_basic'] = df.apply(lambda x: 1 if  x['is_V6'] == 0 and \n",
    "                                                x['is_V8'] == 0 and \n",
    "                                                x['is_V10'] == 0 else 0 ,axis=1)\n",
    "    \n",
    "    \n",
    "    df['is_turbo']     = df['versao'].str.extract(r'\\W*(TURBO)\\W*')\n",
    "    df['is_flex']      = df['versao'].str.extract(r'\\W*(FLEX)\\W*') \n",
    "    df['is_gasolina']  = df['versao'].str.extract(r'\\W*(GASOLINA)\\W*')\n",
    "    df['is_hybrid']    = df['versao'].str.extract(r'\\W*(HÍ)\\W*')\n",
    "    df['is_hybrid_2']  = df['versao'].str.extract(r'\\W*(HY)\\W*')\n",
    "    df['is_diesel']    = df['versao'].str.extract(r'\\W*(DIESEL)\\W*')\n",
    "    # df2['is_tsi'] = x.str.extract(r'\\W*(TSI)\\W*')\n",
    "\n",
    "    # df2['is_turbo'] = df2.apply(lambda x:1 if x['is_turbo'] == 'TURBO' or x['is_tsi'] == 'TSI' else 0,axis=1)\n",
    "    \n",
    "    df['is_turbo'] = df['is_turbo'].apply(lambda x:1 if x == 'TURBO' else 0)\n",
    "\n",
    "    df['is_flex'] = df['is_flex'].apply(lambda x: 1 if x == 'FLEX' else 0)\n",
    "    \n",
    "    df['is_gasolina'] = df['is_gasolina'].apply(lambda x: 1 if x == 'GASOLINA' else 0)\n",
    "    \n",
    "    df['is_diesel'] = df['is_diesel'].apply(lambda x: 1 if x == 'DIESEL' else 0)\n",
    "    \n",
    "    df['is_hybrid_final'] = df.apply(lambda x: 1 if x['is_hybrid'] == 'HÍ' or x['is_hybrid_2'] == 'HY' else 0,axis=1)\n",
    "    \n",
    "    df['is_flex_final'] = df.apply(lambda x: 1 if x['is_flex'] == 'FLEX' else\n",
    "                                              1 if x['is_gasolina'] == 0 and x['is_diesel'] == 0 and x['is_hybrid_final'] == 0 else 0,axis=1)\n",
    "\n",
    "    \n",
    "    df['check'] = df['is_flex_final'] + df['is_gasolina'] + df['is_hybrid_final'] + df['is_diesel'] + df['is_turbo']\n",
    "    \n",
    "    \n",
    "    \n",
    "    # MARCA // BRAND - FREQUENCY ENCODING\n",
    "    \n",
    "    fe_marca = df.groupby('marca').size()/len(df)\n",
    "    df['marca_freq'] = df['marca'].map(fe_marca)\n",
    "    \n",
    "    df['num_fotos'] = df['num_fotos'].fillna(0)\n",
    "    df['num_fotos'] = df['num_fotos'].astype(int)\n",
    "       \n",
    "        \n",
    "    df['blindado'] = df['blindado'].apply(lambda x: 1 if x == 'S' else 0)\n",
    "        \n",
    "    \n",
    "    # REGION\n",
    "    estados  ={\n",
    "                'AC':'Norte',\n",
    "                'AL':'Nordeste',\n",
    "                'AP':'Norte',\n",
    "                'AM':'Norte',\n",
    "                'BA':'Nordeste',\n",
    "                'CE':'Nordeste',\n",
    "                'DF':'Centro-Oeste',\n",
    "                'ES':'Sudeste',\n",
    "                'GO':'Centro-Oeste',\n",
    "                'MA':'Nordeste',\n",
    "                'MT':'Centro-Oeste',\n",
    "                'MS':'Centro-Oeste',\n",
    "                'MG':'Sudeste',\n",
    "                'PA':'Norte',\n",
    "                'PB':'Nordeste',\n",
    "                'PR':'Sul',\n",
    "                'PE':'Nordeste',\n",
    "                'PI':'Nordeste',\n",
    "                'RJ':'Sudeste',\n",
    "                'RN':'Nordeste',\n",
    "                'RS':'Sul',\n",
    "                'RO':'Norte',\n",
    "                'RR':'Norte',\n",
    "                'SC':'Sul',\n",
    "                'SP':'Sudeste',\n",
    "                'SE':'Nordeste',\n",
    "                'TO':'Norte'}\n",
    "    \n",
    "    \n",
    "    df['sigla'] = df['estado_vendedor'].apply(lambda x: x.split(' ')[-1].replace('(','').replace(')',''))\n",
    "    df['regiao'] = df['sigla'].map(estados)\n",
    "    \n",
    "    # CAMBIO     \n",
    "    df['cambio'] = df['cambio'].apply(lambda x: 'Manual' if x == 'Manual' else \n",
    "                                            'CVT'    if x == 'CVT'    else\n",
    "                                            'Automático')\n",
    "    df['cambio'] = df['cambio'].apply(lambda x: 'Automatico' if x == 'Automático' else x)\n",
    "    df['tipo'] = df['tipo'].apply(lambda x: 'Conversivel' if x == 'Conversível' else \n",
    "                                            'Cupe'        if x == 'Cupê'        else\n",
    "                                            'Seda'        if x == 'Sedã'        else\n",
    "                                             'Utilitario esportivo' if x == 'Utilitário esportivo' else x)\n",
    "    \n",
    "    df['tipo_anuncio'] = df['tipo_anuncio'].apply(lambda x: 'Acessorios e servicos para autos' if x == 'Acessórios e serviços para autos' else\n",
    "                                                            'Concessionaria'                  if x == 'Concessionária' else\n",
    "                                                            'Pessoa Fisica'                   if x == 'Pessoa Física' else x)\n",
    "    \n",
    "\n",
    "    # MOTOR PT 1\n",
    "    \n",
    "    df['motor'] = df['versao'].str[:3]\n",
    "    \n",
    "    df['motor'] = df['motor'].apply(lambda x: 0 if x == 'REX' or x == 'B12' or x == 'EV ' or x == '4S ' or x == 'BEV' or x == '90 ' or x == 'ELÉ' or x == 'TUR' or x == 'Z.E' or x == 'P8 ' else x)\n",
    "    df['eletric'] = df['motor'].apply(lambda x: 1 if x == 0 else 0)\n",
    "    \n",
    "    \n",
    "    # MOTOR PT 2\n",
    "    \n",
    "    df['motor'] = df['motor'].astype(float)\n",
    "\n",
    "    \n",
    "\n",
    "    \n",
    "    # ATTR \n",
    "    df['attr_veiculo_aceita_troca'] =                                    df['attr_veiculo_aceita_troca'].apply(lambda x: 1 if x == 'Aceita troca' else 0)\n",
    "    df['attr_veiculo_unico_dono'] =                                    df['attr_veiculo_único_dono'].apply(lambda x: 1 if x == 'Único dono' else 0)\n",
    "    df['attr_veiculo_todas_as_revisoes_feitas_pela_concessionaria'] =   df['attr_veiculo_todas_as_revisões_feitas_pela_concessionária'].apply(lambda x: 1 if x == 'Todas as revisões feitas pela concessionária' else 0)\n",
    "    df['attr_veiculo_ipva_pago'] =                                      df['attr_veiculo_ipva_pago'].apply(lambda x: 1 if x == 'IPVA pago' else 0)\n",
    "    df['attr_veiculo_licenciado'] =                                     df['attr_veiculo_licenciado'].apply(lambda x: 1 if x == 'Licenciado' else 0)\n",
    "    df['attr_veiculo_garantia_de_fabrica'] =                           df['attr_veiculo_garantia_de_fábrica'].apply(lambda x: 1 if x == 'Garantia de fábrica' else 0)\n",
    "    df['attr_veiculo_todas_as_revisoes_feitas_pela_agenda_do_carro'] =  df['attr_veiculo_todas_as_revisões_feitas_pela_agenda_do_carro'].apply(lambda x: 1 if x == 'Todas as revisões feitas pela agenda do carro' else 0)\n",
    " \n",
    "\n",
    "    df.drop(columns=['attr_veiculo_único_dono','attr_veiculo_todas_as_revisões_feitas_pela_concessionária','attr_veiculo_garantia_de_fábrica','attr_veiculo_todas_as_revisões_feitas_pela_agenda_do_carro'], axis=1, inplace=True)\n",
    "\n",
    "\n",
    "\n",
    "    df = pd.get_dummies(df,prefix=['cambio'], columns=['cambio'])\n",
    "    df = pd.get_dummies(df,prefix=['tipo'],   columns=['tipo'])\n",
    "    df = pd.get_dummies(df,prefix=['cor'],    columns=['cor'])\n",
    "    df = pd.get_dummies(df,prefix=['tipo_vendedor'],columns=['tipo_vendedor'])\n",
    "    df = pd.get_dummies(df,prefix=['tipo_anuncio'],columns=['tipo_anuncio'])\n",
    "    df = pd.get_dummies(df,prefix=['regiao'],      columns=['regiao'])\n",
    "#     df = pd.get_dummies(df,prefix=['motor'],      columns=['motor'], drop_first=False)\n",
    "    \n",
    "    \n",
    "#     # Binary Encoder for 'modelo'\n",
    "#     biencoder = ce.BinaryEncoder(cols = ['modelo'] )\n",
    "#     dfbin = biencoder.fit_transform(df['modelo'])\n",
    "#     df = pd.concat([df, dfbin], axis=1)\n",
    "\n",
    "#     target_region_code = df.groupby('modelo')['preco'].mean()\n",
    "#     df['modelo_target'] = df['modelo'].map(target_region_code)\n",
    "    \n",
    "    return df"
   ]
  },
  {
   "cell_type": "code",
   "execution_count": 7,
   "id": "a5bac98b",
   "metadata": {
    "ExecuteTime": {
     "end_time": "2022-08-21T20:41:12.445395Z",
     "start_time": "2022-08-21T20:41:08.797186Z"
    }
   },
   "outputs": [
    {
     "name": "stdout",
     "output_type": "stream",
     "text": [
      "CPU times: user 3.58 s, sys: 63.6 ms, total: 3.65 s\n",
      "Wall time: 3.64 s\n"
     ]
    }
   ],
   "source": [
    "%%time\n",
    "\n",
    "train = pd.read_csv('data/train.csv')\n",
    "test = pd.read_csv('data/test.csv')\n",
    "df_sub = test[['ID']].copy()\n",
    "\n",
    "train['isTrain'] = True\n",
    "test['isTrain'] = False\n",
    "tt = pd.concat([train, test]).reset_index(drop=True).copy()\n",
    "tt = create_features(tt)\n",
    "train = tt.query('isTrain').reset_index(drop=True).copy()\n",
    "test = tt.query('isTrain == False').reset_index(drop=True).copy()"
   ]
  },
  {
   "cell_type": "markdown",
   "id": "27d860e6",
   "metadata": {},
   "source": [
    "# 3.0 Feature Engineering"
   ]
  },
  {
   "cell_type": "code",
   "execution_count": 9,
   "id": "592f6281",
   "metadata": {
    "ExecuteTime": {
     "end_time": "2022-08-21T20:41:19.787642Z",
     "start_time": "2022-08-21T20:41:19.780043Z"
    }
   },
   "outputs": [],
   "source": [
    "train = pd.concat([train, df['preco']], axis=1)"
   ]
  },
  {
   "cell_type": "code",
   "execution_count": 11,
   "id": "6bbc2048",
   "metadata": {
    "ExecuteTime": {
     "end_time": "2022-08-21T20:41:20.806975Z",
     "start_time": "2022-08-21T20:41:20.798605Z"
    }
   },
   "outputs": [],
   "source": [
    "target_region_code = train.groupby('modelo')['preco'].mean()\n",
    "train['modelo_target'] = train['modelo'].map(target_region_code)\n",
    "\n",
    "test['modelo_target'] = test['modelo'].map(target_region_code)"
   ]
  },
  {
   "cell_type": "markdown",
   "id": "982594dc",
   "metadata": {},
   "source": [
    "# 4.0 Modeling"
   ]
  },
  {
   "cell_type": "code",
   "execution_count": 14,
   "id": "46b3a525",
   "metadata": {
    "ExecuteTime": {
     "end_time": "2022-08-21T20:41:29.938524Z",
     "start_time": "2022-08-21T20:41:29.935859Z"
    }
   },
   "outputs": [
    {
     "name": "stdout",
     "output_type": "stream",
     "text": [
      "(39446, 85)\n",
      "(39446, 84)\n"
     ]
    }
   ],
   "source": [
    "print(train.shape)\n",
    "print(test.shape)"
   ]
  },
  {
   "cell_type": "markdown",
   "id": "c36d397d",
   "metadata": {},
   "source": [
    "## 4.1 Train Using KFold CV"
   ]
  },
  {
   "cell_type": "code",
   "execution_count": 2,
   "id": "6a73a7c7",
   "metadata": {
    "ExecuteTime": {
     "end_time": "2022-08-21T22:51:09.146732Z",
     "start_time": "2022-08-21T22:51:08.859250Z"
    }
   },
   "outputs": [
    {
     "ename": "NameError",
     "evalue": "name 'train' is not defined",
     "output_type": "error",
     "traceback": [
      "\u001b[0;31m---------------------------------------------------------------------------\u001b[0m",
      "\u001b[0;31mNameError\u001b[0m                                 Traceback (most recent call last)",
      "Input \u001b[0;32mIn [2]\u001b[0m, in \u001b[0;36m<cell line: 80>\u001b[0;34m()\u001b[0m\n\u001b[1;32m      1\u001b[0m FEATURES \u001b[38;5;241m=\u001b[39m [\n\u001b[1;32m      2\u001b[0m \u001b[38;5;66;03m#             'ID', \u001b[39;00m\n\u001b[1;32m      3\u001b[0m             \u001b[38;5;124m'\u001b[39m\u001b[38;5;124mnum_fotos\u001b[39m\u001b[38;5;124m'\u001b[39m, \n\u001b[0;32m   (...)\u001b[0m\n\u001b[1;32m     77\u001b[0m \u001b[38;5;66;03m#               'featagg1', 'featagg2', 'featagg3'\u001b[39;00m\n\u001b[1;32m     78\u001b[0m            ]\n\u001b[0;32m---> 80\u001b[0m X \u001b[38;5;241m=\u001b[39m \u001b[43mtrain\u001b[49m\u001b[38;5;241m.\u001b[39mcopy()\n\u001b[1;32m     81\u001b[0m TARGET \u001b[38;5;241m=\u001b[39m \u001b[38;5;124m'\u001b[39m\u001b[38;5;124mpreco\u001b[39m\u001b[38;5;124m'\u001b[39m\n\u001b[1;32m     82\u001b[0m FOLDS \u001b[38;5;241m=\u001b[39m \u001b[38;5;241m5\u001b[39m\n",
      "\u001b[0;31mNameError\u001b[0m: name 'train' is not defined"
     ]
    }
   ],
   "source": [
    "FEATURES = [\n",
    "#             'ID', \n",
    "            'num_fotos', \n",
    "#             'marca', # FREQ ENCODER\n",
    "#             'modelo', \n",
    "#             'versao', DROP\n",
    "            'ano_de_fabricacao',\n",
    "            'ano_modelo', \n",
    "            'odometro', \n",
    "#             'cambio', ONE HOT\n",
    "            'num_portas', \n",
    "#             'tipo',  ONE HOT\n",
    "            'blindado',\n",
    "#             'cor',   ONE HOT\n",
    "#             'tipo_vendedor',  ONE HOT\n",
    "#             'cidade_vendedor', REGIAO\n",
    "#             'estado_vendedor', REGIAO\n",
    "#             'tipo_anuncio',  ONE HOT\n",
    "            'entrega_delivery', \n",
    "            'troca', \n",
    "            'elegivel_revisao',\n",
    "            'attr_veiculo_aceita_troca', \n",
    "            'attr_veiculo_unico_dono',\n",
    "            'attr_veiculo_todas_as_revisoes_feitas_pela_concessionaria',\n",
    "            'attr_veiculo_ipva_pago', \n",
    "            'attr_veiculo_licenciado',\n",
    "            'attr_veiculo_garantia_de_fabrica',\n",
    "            'attr_veiculo_todas_as_revisoes_feitas_pela_agenda_do_carro',\n",
    "#             'attr_veiculo_alienado', \n",
    "#             'preco',\n",
    "#             'sigla', \n",
    "              'motor', \n",
    "              'eletric',\n",
    "#               'yearGapFab', 'yearGapMod', \n",
    "#             'mileage',\n",
    "#             'mileageFab', 'mileageMod',\n",
    "#               'mileageYearFab', 'mileageYearMod',\n",
    "    \n",
    "            '4x4', 'is_V6', 'is_V8', 'is_V10', 'is_basic',\n",
    "    \n",
    "              'is_turbo', \n",
    "#               'is_flex', \n",
    "              'is_gasolina', \n",
    "#               'is_hybrid', 'is_hybrid_2',\n",
    "              'is_diesel', \n",
    "              'is_hybrid_final', \n",
    "              'is_flex_final', \n",
    "#               'check',\n",
    "              'marca_freq', # SUBSTITUI MARCA!\n",
    "              'cambio_Automatico', \n",
    "              'cambio_CVT', 'cambio_Manual',\n",
    "              'tipo_Conversivel',\n",
    "              'tipo_Cupe',\n",
    "              'tipo_Hatchback', 'tipo_Minivan',\n",
    "              'tipo_Perua/SW', 'tipo_Picape', \n",
    "              'tipo_Seda',\n",
    "              'tipo_Utilitario esportivo',\n",
    "              'cor_Azul', 'cor_Branco', 'cor_Cinza',\n",
    "              'cor_Dourado', 'cor_Prata', 'cor_Preto', \n",
    "              'cor_Verde', \n",
    "              'cor_Vermelho',\n",
    "              'tipo_vendedor_PF', 'tipo_vendedor_PJ',\n",
    "              'tipo_anuncio_Acessorios e servicos para autos',\n",
    "              'tipo_anuncio_Concessionaria', \n",
    "              'tipo_anuncio_Loja',\n",
    "              'tipo_anuncio_Pessoa Fisica',\n",
    "#               'regiao_Centro-Oeste', 'regiao_Nordeste',\n",
    "#               'regiao_Norte', 'regiao_Sudeste', 'regiao_Sul',\n",
    "#                'motor_1.0',\n",
    "#              'motor_1.1-1.4', 'motor_1.5-1.8', 'motor_1.9-2.0', 'motor_2.1-2.8',\n",
    "#             'motor_2.8-3.2', 'motor_Eletrico', 'motor_above-3.2',\n",
    "#               'modelo_0', 'modelo_1',\n",
    "#               'modelo_2', 'modelo_3', 'modelo_4', 'modelo_5', 'modelo_6', 'modelo_7',\n",
    "#               'modelo_8',\n",
    "              'modelo_target',\n",
    "#               'marca_target',\n",
    "#               'featagg1', 'featagg2', 'featagg3'\n",
    "           ]\n",
    "\n",
    "X = train.copy()\n",
    "TARGET = 'preco'\n",
    "FOLDS = 5"
   ]
  },
  {
   "cell_type": "code",
   "execution_count": 21,
   "id": "c2d91593",
   "metadata": {
    "ExecuteTime": {
     "end_time": "2022-08-21T20:43:04.464856Z",
     "start_time": "2022-08-21T20:41:43.573507Z"
    }
   },
   "outputs": [
    {
     "name": "stdout",
     "output_type": "stream",
     "text": [
      "Fold: 0\n",
      "MAE: 25544.24467882406\n",
      "R2: 0.7453177818517753\n",
      "\n",
      "Fold: 1\n",
      "MAE: 24979.785259715383\n",
      "R2: 0.7525005303347178\n",
      "\n",
      "Fold: 2\n",
      "MAE: 25383.37203149063\n",
      "R2: 0.7439699159161834\n",
      "\n",
      "Fold: 3\n",
      "MAE: 24560.282720262698\n",
      "R2: 0.7564185536809318\n",
      "\n",
      "Fold: 4\n",
      "MAE: 24785.411395433497\n",
      "R2: 0.7789890056504281\n",
      "\n",
      "--------------------\n",
      "Mean: 25050.61921714525\n",
      "Std: 366.10737503353084\n"
     ]
    }
   ],
   "source": [
    "maes = []\n",
    "preds_test = []\n",
    "feature_importance = []\n",
    "oof_pred = []; oof_tar = []; oof_names = []; oof_folds = [] \n",
    "\n",
    "kf = KFold(n_splits=FOLDS, shuffle=True, random_state=42)\n",
    "for fold, (tr, val) in enumerate(kf.split(X[FEATURES], X[TARGET])):\n",
    "    print('Fold:', fold)\n",
    "    \n",
    "\n",
    "    \n",
    "    # split train/val\n",
    "    X_train = X.loc[tr, FEATURES]\n",
    "    y_train = X.loc[tr, TARGET]\n",
    "    X_val = X.loc[val, FEATURES]\n",
    "    y_val = X.loc[val, TARGET]\n",
    "    \n",
    "    \n",
    "\n",
    "    # LGBM - PARAMETERS OBTAINED FROM OPTUNA TUNING\n",
    "    lgb = lgbm.LGBMRegressor(\n",
    "        learning_rate=0.01585496083489399,\n",
    "        objective='l1',\n",
    "        n_estimators=5000,\n",
    "        reg_alpha=0.3803917808316236,\n",
    "        reg_lambda=1.879660691225598,\n",
    "        max_depth=9,\n",
    "        subsample=0.6792710794478111,\n",
    "        num_leaves=512,\n",
    "        colsample_bytree=0.5661872952051302  \n",
    "    \n",
    "    )\n",
    "    lgb.fit(X_train, y_train)\n",
    "                                    \n",
    "    # predict\n",
    "    preds = lgb.predict(X_val)   \n",
    "    \n",
    "    \n",
    "    # metrics\n",
    "    mae = mean_absolute_error(y_val, preds)\n",
    "    maes.append(mae)\n",
    "    print('MAE:', mae)\n",
    "    print('R2:', r2_score(y_val, preds))\n",
    "    print()\n",
    "    \n",
    "    # predict on test set\n",
    "    preds_test = lgb.predict(test[X_train.columns])\n",
    "    df_sub[f'fold_{fold}'] = preds_test    \n",
    "    \n",
    "    \n",
    "print('-' * 20)\n",
    "print('Mean:', np.mean(maes))\n",
    "print('Median:', np.median(maes))\n",
    "print('Std:', np.std(maes))\n"
   ]
  },
  {
   "cell_type": "markdown",
   "id": "4be69f1a",
   "metadata": {
    "heading_collapsed": true
   },
   "source": [
    "## 4.2 Training other models - XGB"
   ]
  },
  {
   "cell_type": "code",
   "execution_count": null,
   "id": "73222b47",
   "metadata": {
    "hidden": true
   },
   "outputs": [],
   "source": [
    "# param = { \n",
    "# #         'n_estimators':[1500, 1700, 2500, 3000, 3500],\n",
    "#         'eta':[0.01,0.03],\n",
    "# #         'max_depth':[3, 5, 9],\n",
    "# #         'subsample':[0.1, 0.5, 0.7],\n",
    "# #         'colsample_bytree':[0.3, 0.7, 0.9],\n",
    "# #         'min_child_weight':[3, 8, 15]\n",
    "        }"
   ]
  },
  {
   "cell_type": "code",
   "execution_count": null,
   "id": "678b7727",
   "metadata": {
    "ExecuteTime": {
     "end_time": "2022-08-21T20:31:22.188442Z",
     "start_time": "2022-08-21T20:31:22.188431Z"
    },
    "hidden": true
   },
   "outputs": [],
   "source": [
    "maes = []\n",
    "preds_test = []\n",
    "feature_importance = []\n",
    "oof_pred = []; oof_tar = []; oof_names = []; oof_folds = [] \n",
    "\n",
    "kf = KFold(n_splits=FOLDS, shuffle=True, random_state=42)\n",
    "for fold, (tr, val) in enumerate(kf.split(X[FEATURES], X[TARGET])):\n",
    "    print('Fold:', fold)\n",
    "    \n",
    "    # split train/val\n",
    "    X_train = train.loc[tr, FEATURES]\n",
    "    y_train = train.loc[tr, TARGET]\n",
    "    X_val = train.loc[val, FEATURES]\n",
    "    y_val = train.loc[val, TARGET]\n",
    "    \n",
    "\n",
    "    # LGBM\n",
    "    model_xgb = xgb.XGBRegressor(\n",
    "#         objective='l1',\n",
    "        n_estimators=5000,\n",
    "        learning_rate=0.015,\n",
    "#         eta=hp['eta']\n",
    "        max_depth=9,\n",
    "#         num_leaves=512\n",
    "    )\n",
    "    model_xgb.fit(X_train, y_train)\n",
    "                                    \n",
    "    # predict\n",
    "    preds = model_xgb.predict(X_val)\n",
    "    \n",
    "    \n",
    "    # metrics\n",
    "    mae = mean_absolute_error(y_val, preds)\n",
    "    maes.append(mae)\n",
    "    print('MAE:', mae)\n",
    "    print('R2:', r2_score(y_val, preds))\n",
    "    print()\n",
    "    \n",
    "    # predict on test set\n",
    "    preds_test = model_xgb.predict(test[X_train.columns])\n",
    "    df_sub[f'fold_{fold}'] = preds_test\n",
    "    \n",
    "#     feature_importance.append(lgb.feature_importance_())\n",
    "    \n",
    "    \n",
    "    \n",
    "print('-' * 20)\n",
    "print('Mean:', np.mean(maes))\n",
    "print('Median:', np.median(maes))\n",
    "print('Std:', np.std(maes))"
   ]
  },
  {
   "cell_type": "markdown",
   "id": "5f15fd36",
   "metadata": {
    "heading_collapsed": true
   },
   "source": [
    "## 4.3 Training other models - CatBoost"
   ]
  },
  {
   "cell_type": "code",
   "execution_count": null,
   "id": "77b15b5f",
   "metadata": {
    "ExecuteTime": {
     "end_time": "2022-08-21T01:19:56.703645Z",
     "start_time": "2022-08-21T01:19:14.191154Z"
    },
    "hidden": true
   },
   "outputs": [],
   "source": [
    "maes = []\n",
    "preds_test = []\n",
    "feature_importance = []\n",
    "oof_pred = []; oof_tar = []; oof_names = []; oof_folds = [] \n",
    "\n",
    "kf = KFold(n_splits=FOLDS, shuffle=True, random_state=42)\n",
    "for fold, (tr, val) in enumerate(kf.split(X[FEATURES], X[TARGET])):\n",
    "    print('Fold:', fold)\n",
    "    \n",
    "    # split train/val\n",
    "    X_train = train.loc[tr, FEATURES]\n",
    "    y_train = train.loc[tr, TARGET]\n",
    "    X_val = train.loc[val, FEATURES]\n",
    "    y_val = train.loc[val, TARGET]\n",
    "    \n",
    "\n",
    "    # LGBM\n",
    "    catboost = cb.CatBoostRegressor(\n",
    "        iterations=5000,\n",
    "#         cat_features=categorical\n",
    "    )\n",
    "    catboost.fit(X_train, y_train)\n",
    "                                    \n",
    "    # predict\n",
    "    preds = catboost.predict(X_val)\n",
    "    \n",
    "    \n",
    "    # metrics\n",
    "    mae = mean_absolute_error(y_val, preds)\n",
    "    maes.append(mae)\n",
    "    print('MAE:', mae)\n",
    "    print('R2:', r2_score(y_val, preds))\n",
    "    print()\n",
    "    \n",
    "    # predict on test set\n",
    "    preds_test = catboost.predict(test[X_train.columns])\n",
    "    df_sub[f'fold_{fold}'] = preds_test\n",
    "    \n",
    "#     feature_importance.append(lgb.feature_importance_())\n",
    "    \n",
    "    \n",
    "    \n",
    "print('-' * 20)\n",
    "print('Mean:', np.mean(maes))\n",
    "print('Median:', np.median(maes))\n",
    "print('Std:', np.std(maes))"
   ]
  },
  {
   "cell_type": "code",
   "execution_count": null,
   "id": "7a7626a4",
   "metadata": {
    "hidden": true
   },
   "outputs": [],
   "source": []
  },
  {
   "cell_type": "code",
   "execution_count": null,
   "id": "2b797165",
   "metadata": {
    "hidden": true
   },
   "outputs": [],
   "source": []
  },
  {
   "cell_type": "markdown",
   "id": "6441c4b7",
   "metadata": {},
   "source": [
    "# 5.0 GridSearch and Feature Importances"
   ]
  },
  {
   "cell_type": "code",
   "execution_count": null,
   "id": "319c15fe",
   "metadata": {
    "ExecuteTime": {
     "end_time": "2022-08-21T19:49:55.645925Z",
     "start_time": "2022-08-21T19:49:55.544364Z"
    }
   },
   "outputs": [],
   "source": [
    "lgbm.plot_importance(lgb, max_num_features = 10, height=.9);"
   ]
  },
  {
   "cell_type": "code",
   "execution_count": null,
   "id": "55aee6c8",
   "metadata": {
    "ExecuteTime": {
     "end_time": "2022-08-21T19:49:57.210168Z",
     "start_time": "2022-08-21T19:49:57.207909Z"
    }
   },
   "outputs": [],
   "source": [
    "# %%time\n",
    "\n",
    "# lgb2 = lgbm.LGBMRegressor(random_state=42)\n",
    "# gs = GridSearchCV (lgb2, param_grid=params, cv=5, scoring='neg_mean_absolute_error', verbose=True)\n",
    "# gs.fit(X[FEATURES], y)\n",
    "\n",
    "# maet = mean_absolute_error(y_train, gs.predict(X_train))\n",
    "# mae = mean_absolute_error(y_test, gs.predict(X_test))\n",
    "\n",
    "# print(\"best parameters: \",gs.best_params_)\n",
    "# print(\"best score: \", gs.best_score_)\n",
    "\n",
    "\n",
    "# print(f'MAE train set: {maet}, MAE test set: {mae}')"
   ]
  },
  {
   "cell_type": "code",
   "execution_count": null,
   "id": "ed1734d3",
   "metadata": {
    "ExecuteTime": {
     "end_time": "2022-08-21T17:52:15.689642Z",
     "start_time": "2022-08-21T17:52:15.686829Z"
    }
   },
   "outputs": [],
   "source": [
    "# print(\"\"\"\n",
    "# best parameters:  {'learning_rate': 0.05, 'max_depth': 12, 'n_estimators': 1000, 'reg_alpha': 10, 'reg_lambda': 0.8, 'subsample': 0.5}\n",
    "# best score:  -26237.85915732369\n",
    "# MAE train set: 22383.14791489919, MAE test set: 22625.48454911989\n",
    "# CPU times: user 1d 8min 43s, sys: 2min 44s, total: 1d 11min 28s\n",
    "# Wall time: 2h 7min 50s\n",
    "# \"\"\")"
   ]
  },
  {
   "cell_type": "code",
   "execution_count": null,
   "id": "e7bac4d1",
   "metadata": {
    "ExecuteTime": {
     "end_time": "2022-08-21T17:13:30.383219Z",
     "start_time": "2022-08-21T17:13:30.252267Z"
    }
   },
   "outputs": [],
   "source": [
    "# gs.cv_results_"
   ]
  },
  {
   "cell_type": "code",
   "execution_count": null,
   "id": "b27fc0d2",
   "metadata": {
    "ExecuteTime": {
     "end_time": "2022-08-21T17:14:25.085199Z",
     "start_time": "2022-08-21T17:14:25.081843Z"
    }
   },
   "outputs": [],
   "source": [
    "# gs.cv_results_['mean_test_score'].mean()"
   ]
  },
  {
   "cell_type": "markdown",
   "id": "73a1c726",
   "metadata": {},
   "source": [
    "# 6.0 Submission"
   ]
  },
  {
   "cell_type": "code",
   "execution_count": 23,
   "id": "3173fb6b",
   "metadata": {
    "ExecuteTime": {
     "end_time": "2022-08-21T20:44:04.173276Z",
     "start_time": "2022-08-21T20:44:04.171258Z"
    }
   },
   "outputs": [],
   "source": [
    "# Save model\n",
    "lgb.save_model('model_lgb.json')"
   ]
  },
  {
   "cell_type": "code",
   "execution_count": 26,
   "id": "fbcf0842",
   "metadata": {
    "ExecuteTime": {
     "end_time": "2022-08-21T20:45:12.671629Z",
     "start_time": "2022-08-21T20:45:12.662795Z"
    },
    "scrolled": true
   },
   "outputs": [
    {
     "data": {
      "text/html": [
       "<div>\n",
       "<style scoped>\n",
       "    .dataframe tbody tr th:only-of-type {\n",
       "        vertical-align: middle;\n",
       "    }\n",
       "\n",
       "    .dataframe tbody tr th {\n",
       "        vertical-align: top;\n",
       "    }\n",
       "\n",
       "    .dataframe thead th {\n",
       "        text-align: right;\n",
       "    }\n",
       "</style>\n",
       "<table border=\"1\" class=\"dataframe\">\n",
       "  <thead>\n",
       "    <tr style=\"text-align: right;\">\n",
       "      <th></th>\n",
       "      <th>ID</th>\n",
       "      <th>fold_0</th>\n",
       "      <th>fold_1</th>\n",
       "      <th>fold_2</th>\n",
       "      <th>fold_3</th>\n",
       "      <th>fold_4</th>\n",
       "    </tr>\n",
       "  </thead>\n",
       "  <tbody>\n",
       "    <tr>\n",
       "      <th>0</th>\n",
       "      <td>24813264385557040124808779273028388499</td>\n",
       "      <td>67155.225966</td>\n",
       "      <td>67186.741261</td>\n",
       "      <td>66247.209158</td>\n",
       "      <td>67708.655823</td>\n",
       "      <td>66167.898408</td>\n",
       "    </tr>\n",
       "    <tr>\n",
       "      <th>1</th>\n",
       "      <td>295636316453795508942188530111300065666</td>\n",
       "      <td>105809.113493</td>\n",
       "      <td>102890.851615</td>\n",
       "      <td>103005.792747</td>\n",
       "      <td>107047.383118</td>\n",
       "      <td>101236.834430</td>\n",
       "    </tr>\n",
       "    <tr>\n",
       "      <th>2</th>\n",
       "      <td>101258309166227950735244624080888109884</td>\n",
       "      <td>88734.928559</td>\n",
       "      <td>87630.126377</td>\n",
       "      <td>87929.481485</td>\n",
       "      <td>88052.632837</td>\n",
       "      <td>90828.595065</td>\n",
       "    </tr>\n",
       "    <tr>\n",
       "      <th>3</th>\n",
       "      <td>28348734455782469411126661985772047409</td>\n",
       "      <td>73562.068977</td>\n",
       "      <td>76831.347210</td>\n",
       "      <td>72480.254374</td>\n",
       "      <td>72616.502702</td>\n",
       "      <td>75857.882834</td>\n",
       "    </tr>\n",
       "    <tr>\n",
       "      <th>4</th>\n",
       "      <td>193163160502972147671913739170248305797</td>\n",
       "      <td>99902.168138</td>\n",
       "      <td>100443.789464</td>\n",
       "      <td>97705.923833</td>\n",
       "      <td>98960.887857</td>\n",
       "      <td>96152.968403</td>\n",
       "    </tr>\n",
       "  </tbody>\n",
       "</table>\n",
       "</div>"
      ],
      "text/plain": [
       "                                        ID         fold_0         fold_1  \\\n",
       "0   24813264385557040124808779273028388499   67155.225966   67186.741261   \n",
       "1  295636316453795508942188530111300065666  105809.113493  102890.851615   \n",
       "2  101258309166227950735244624080888109884   88734.928559   87630.126377   \n",
       "3   28348734455782469411126661985772047409   73562.068977   76831.347210   \n",
       "4  193163160502972147671913739170248305797   99902.168138  100443.789464   \n",
       "\n",
       "          fold_2         fold_3         fold_4  \n",
       "0   66247.209158   67708.655823   66167.898408  \n",
       "1  103005.792747  107047.383118  101236.834430  \n",
       "2   87929.481485   88052.632837   90828.595065  \n",
       "3   72480.254374   72616.502702   75857.882834  \n",
       "4   97705.923833   98960.887857   96152.968403  "
      ]
     },
     "execution_count": 26,
     "metadata": {},
     "output_type": "execute_result"
    }
   ],
   "source": [
    "df_sub.head()"
   ]
  },
  {
   "cell_type": "code",
   "execution_count": 34,
   "id": "b5c2455d",
   "metadata": {
    "ExecuteTime": {
     "end_time": "2022-08-21T20:46:25.308924Z",
     "start_time": "2022-08-21T20:46:25.296062Z"
    }
   },
   "outputs": [],
   "source": [
    "pred_cols = [x for x in df_sub.columns if x.startswith('fold_')]\n",
    "\n",
    "# take median because metric is MAE\n",
    "df_sub['preco'] = df_sub[pred_cols].median(axis=1)"
   ]
  },
  {
   "cell_type": "code",
   "execution_count": 35,
   "id": "2f391077",
   "metadata": {
    "ExecuteTime": {
     "end_time": "2022-08-21T20:46:25.630475Z",
     "start_time": "2022-08-21T20:46:25.623471Z"
    }
   },
   "outputs": [
    {
     "data": {
      "text/html": [
       "<div>\n",
       "<style scoped>\n",
       "    .dataframe tbody tr th:only-of-type {\n",
       "        vertical-align: middle;\n",
       "    }\n",
       "\n",
       "    .dataframe tbody tr th {\n",
       "        vertical-align: top;\n",
       "    }\n",
       "\n",
       "    .dataframe thead th {\n",
       "        text-align: right;\n",
       "    }\n",
       "</style>\n",
       "<table border=\"1\" class=\"dataframe\">\n",
       "  <thead>\n",
       "    <tr style=\"text-align: right;\">\n",
       "      <th></th>\n",
       "      <th>ID</th>\n",
       "      <th>fold_0</th>\n",
       "      <th>fold_1</th>\n",
       "      <th>fold_2</th>\n",
       "      <th>fold_3</th>\n",
       "      <th>fold_4</th>\n",
       "      <th>preco</th>\n",
       "    </tr>\n",
       "  </thead>\n",
       "  <tbody>\n",
       "    <tr>\n",
       "      <th>0</th>\n",
       "      <td>24813264385557040124808779273028388499</td>\n",
       "      <td>67155.225966</td>\n",
       "      <td>67186.741261</td>\n",
       "      <td>66247.209158</td>\n",
       "      <td>67708.655823</td>\n",
       "      <td>66167.898408</td>\n",
       "      <td>67155.225966</td>\n",
       "    </tr>\n",
       "    <tr>\n",
       "      <th>1</th>\n",
       "      <td>295636316453795508942188530111300065666</td>\n",
       "      <td>105809.113493</td>\n",
       "      <td>102890.851615</td>\n",
       "      <td>103005.792747</td>\n",
       "      <td>107047.383118</td>\n",
       "      <td>101236.834430</td>\n",
       "      <td>103005.792747</td>\n",
       "    </tr>\n",
       "    <tr>\n",
       "      <th>2</th>\n",
       "      <td>101258309166227950735244624080888109884</td>\n",
       "      <td>88734.928559</td>\n",
       "      <td>87630.126377</td>\n",
       "      <td>87929.481485</td>\n",
       "      <td>88052.632837</td>\n",
       "      <td>90828.595065</td>\n",
       "      <td>88052.632837</td>\n",
       "    </tr>\n",
       "    <tr>\n",
       "      <th>3</th>\n",
       "      <td>28348734455782469411126661985772047409</td>\n",
       "      <td>73562.068977</td>\n",
       "      <td>76831.347210</td>\n",
       "      <td>72480.254374</td>\n",
       "      <td>72616.502702</td>\n",
       "      <td>75857.882834</td>\n",
       "      <td>73562.068977</td>\n",
       "    </tr>\n",
       "    <tr>\n",
       "      <th>4</th>\n",
       "      <td>193163160502972147671913739170248305797</td>\n",
       "      <td>99902.168138</td>\n",
       "      <td>100443.789464</td>\n",
       "      <td>97705.923833</td>\n",
       "      <td>98960.887857</td>\n",
       "      <td>96152.968403</td>\n",
       "      <td>98960.887857</td>\n",
       "    </tr>\n",
       "  </tbody>\n",
       "</table>\n",
       "</div>"
      ],
      "text/plain": [
       "                                        ID         fold_0         fold_1  \\\n",
       "0   24813264385557040124808779273028388499   67155.225966   67186.741261   \n",
       "1  295636316453795508942188530111300065666  105809.113493  102890.851615   \n",
       "2  101258309166227950735244624080888109884   88734.928559   87630.126377   \n",
       "3   28348734455782469411126661985772047409   73562.068977   76831.347210   \n",
       "4  193163160502972147671913739170248305797   99902.168138  100443.789464   \n",
       "\n",
       "          fold_2         fold_3         fold_4          preco  \n",
       "0   66247.209158   67708.655823   66167.898408   67155.225966  \n",
       "1  103005.792747  107047.383118  101236.834430  103005.792747  \n",
       "2   87929.481485   88052.632837   90828.595065   88052.632837  \n",
       "3   72480.254374   72616.502702   75857.882834   73562.068977  \n",
       "4   97705.923833   98960.887857   96152.968403   98960.887857  "
      ]
     },
     "execution_count": 35,
     "metadata": {},
     "output_type": "execute_result"
    }
   ],
   "source": [
    "df_sub.head()"
   ]
  },
  {
   "cell_type": "code",
   "execution_count": 36,
   "id": "07d76fc0",
   "metadata": {
    "ExecuteTime": {
     "end_time": "2022-08-21T20:46:27.117184Z",
     "start_time": "2022-08-21T20:46:27.095691Z"
    }
   },
   "outputs": [],
   "source": [
    "sub = pd.read_csv('data/sample_submission.csv')"
   ]
  },
  {
   "cell_type": "code",
   "execution_count": 37,
   "id": "f4c9ecc2",
   "metadata": {
    "ExecuteTime": {
     "end_time": "2022-08-21T20:46:27.350911Z",
     "start_time": "2022-08-21T20:46:27.348160Z"
    }
   },
   "outputs": [],
   "source": [
    "sub['preco'] = df_sub['preco']"
   ]
  },
  {
   "cell_type": "code",
   "execution_count": 38,
   "id": "51708136",
   "metadata": {
    "ExecuteTime": {
     "end_time": "2022-08-21T20:46:28.205433Z",
     "start_time": "2022-08-21T20:46:28.200164Z"
    }
   },
   "outputs": [
    {
     "data": {
      "text/html": [
       "<div>\n",
       "<style scoped>\n",
       "    .dataframe tbody tr th:only-of-type {\n",
       "        vertical-align: middle;\n",
       "    }\n",
       "\n",
       "    .dataframe tbody tr th {\n",
       "        vertical-align: top;\n",
       "    }\n",
       "\n",
       "    .dataframe thead th {\n",
       "        text-align: right;\n",
       "    }\n",
       "</style>\n",
       "<table border=\"1\" class=\"dataframe\">\n",
       "  <thead>\n",
       "    <tr style=\"text-align: right;\">\n",
       "      <th></th>\n",
       "      <th>ID</th>\n",
       "      <th>preco</th>\n",
       "    </tr>\n",
       "  </thead>\n",
       "  <tbody>\n",
       "    <tr>\n",
       "      <th>0</th>\n",
       "      <td>24813264385557040124808779273028388499</td>\n",
       "      <td>67155.225966</td>\n",
       "    </tr>\n",
       "    <tr>\n",
       "      <th>1</th>\n",
       "      <td>295636316453795508942188530111300065666</td>\n",
       "      <td>103005.792747</td>\n",
       "    </tr>\n",
       "    <tr>\n",
       "      <th>2</th>\n",
       "      <td>101258309166227950735244624080888109884</td>\n",
       "      <td>88052.632837</td>\n",
       "    </tr>\n",
       "    <tr>\n",
       "      <th>3</th>\n",
       "      <td>28348734455782469411126661985772047409</td>\n",
       "      <td>73562.068977</td>\n",
       "    </tr>\n",
       "    <tr>\n",
       "      <th>4</th>\n",
       "      <td>193163160502972147671913739170248305797</td>\n",
       "      <td>98960.887857</td>\n",
       "    </tr>\n",
       "  </tbody>\n",
       "</table>\n",
       "</div>"
      ],
      "text/plain": [
       "                                        ID          preco\n",
       "0   24813264385557040124808779273028388499   67155.225966\n",
       "1  295636316453795508942188530111300065666  103005.792747\n",
       "2  101258309166227950735244624080888109884   88052.632837\n",
       "3   28348734455782469411126661985772047409   73562.068977\n",
       "4  193163160502972147671913739170248305797   98960.887857"
      ]
     },
     "execution_count": 38,
     "metadata": {},
     "output_type": "execute_result"
    }
   ],
   "source": [
    "sub.head()"
   ]
  },
  {
   "cell_type": "code",
   "execution_count": 40,
   "id": "3bd982cd",
   "metadata": {
    "ExecuteTime": {
     "end_time": "2022-08-21T20:46:32.648525Z",
     "start_time": "2022-08-21T20:46:32.581756Z"
    }
   },
   "outputs": [],
   "source": [
    "sub.to_csv('submission.csv', index=False)"
   ]
  }
 ],
 "metadata": {
  "kernelspec": {
   "display_name": "Python 3 (ipykernel)",
   "language": "python",
   "name": "python3"
  },
  "language_info": {
   "codemirror_mode": {
    "name": "ipython",
    "version": 3
   },
   "file_extension": ".py",
   "mimetype": "text/x-python",
   "name": "python",
   "nbconvert_exporter": "python",
   "pygments_lexer": "ipython3",
   "version": "3.10.5"
  }
 },
 "nbformat": 4,
 "nbformat_minor": 5
}
